{
 "cells": [
  {
   "cell_type": "code",
   "execution_count": null,
   "metadata": {},
   "outputs": [],
   "source": [
    "asteroide = 49\n",
    "\n",
    "if asteroide >= 25:\n",
    " print(\"¡Cuidado un asteroide a gran velocidad!\")\n",
    "else:\n",
    " print(\"No pasa nada\")"
   ]
  },
  {
   "cell_type": "markdown",
   "metadata": {},
   "source": []
  },
  {
   "cell_type": "code",
   "execution_count": null,
   "metadata": {},
   "outputs": [],
   "source": [
    "asteroide = 19\n",
    "\n",
    "if asteroide > 20:\n",
    "    print(\"Hay un rayo de luz\")\n",
    "elif asteroide == 20\n",
    "    print(\"Hay un rayo de luz\")\n",
    "else:\n",
    "    print(\"No pasa nada\")"
   ]
  },
  {
   "cell_type": "code",
   "execution_count": null,
   "metadata": {},
   "outputs": [],
   "source": [
    "velo_astero = 25\n",
    "tamaño_astero = 40\n",
    "\n",
    "if velo_astero > 25 and tamaño_astero > 25:\n",
    "    print(\"Alerta, hay un asteroide que se dirije a la tierra\")\n",
    "elif velo_astero >= 20:\n",
    "    print(\"Hay un rayo de luz en el cielo\")\n",
    "elif tamaño_astero  < 25:\n",
    "    print(\"No pasa nada\")\n",
    "else:\n",
    "    print(\"No pasa nada\")"
   ]
  }
 ],
 "metadata": {
  "language_info": {
   "name": "python"
  },
  "orig_nbformat": 4
 },
 "nbformat": 4,
 "nbformat_minor": 2
}
